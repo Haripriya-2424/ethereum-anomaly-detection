{
 "cells": [
  {
   "cell_type": "code",
   "execution_count": 3,
   "id": "dd77ae13",
   "metadata": {},
   "outputs": [
    {
     "name": "stdout",
     "output_type": "stream",
     "text": [
      "Original shape: (5000, 9)\n"
     ]
    }
   ],
   "source": [
    "import pandas as pd\n",
    "import numpy as np\n",
    "import matplotlib.pyplot as plt\n",
    "import seaborn as sns\n",
    "import os\n",
    "from datetime import datetime\n",
    "\n",
    "# Load dataset\n",
    "df = pd.read_csv('../data/ethereum_tx_data.csv')  # Update the path as needed\n",
    "print(\"Original shape:\", df.shape)"
   ]
  },
  {
   "cell_type": "code",
   "execution_count": 4,
   "id": "b2a7308f",
   "metadata": {},
   "outputs": [],
   "source": [
    "# Drop useless or constant columns\n",
    "if 'Value_OUT(ETH)' in df.columns:\n",
    "    if df['Value_OUT(ETH)'].nunique() == 1 and df['Value_OUT(ETH)'].iloc[0] == 0:\n",
    "        df.drop(columns=['Value_OUT(ETH)'], inplace=True)"
   ]
  },
  {
   "cell_type": "code",
   "execution_count": 5,
   "id": "3fdfa91b",
   "metadata": {},
   "outputs": [],
   "source": [
    "# Rename confusing columns\n",
    "df.rename(columns={\n",
    "    'CurrentValue @ $3083.38454496098/Eth': 'CurrentValue_USD',\n",
    "    'TxnFee(ETH)': 'TxnFee_ETH',\n",
    "    'TxnFee(USD)': 'TxnFee_USD',\n",
    "    'Historical $Price/Eth': 'HistoricalPrice_ETH'\n",
    "}, inplace=True)"
   ]
  },
  {
   "cell_type": "code",
   "execution_count": 6,
   "id": "31bcf0ed",
   "metadata": {},
   "outputs": [],
   "source": [
    "# Convert datetime\n",
    "df['DateTime'] = pd.to_datetime(df['DateTime (UTC)'])\n",
    "df.drop(columns=['DateTime (UTC)'], inplace=True)\n",
    "\n",
    "# Time-based features\n",
    "df['hour'] = df['DateTime'].dt.hour\n",
    "df['dayofweek'] = df['DateTime'].dt.dayofweek\n",
    "\n",
    "# Create derived features\n",
    "df['Value_IN_USD'] = df['Value_IN(ETH)'] * df['HistoricalPrice_ETH']\n",
    "df['GasEfficiency'] = df['TxnFee_USD'] / (df['Value_IN_USD'] + 1e-6)  # avoid divide by 0"
   ]
  },
  {
   "cell_type": "code",
   "execution_count": 7,
   "id": "ed5ed169",
   "metadata": {},
   "outputs": [
    {
     "name": "stdout",
     "output_type": "stream",
     "text": [
      "After cleaning: (5000, 12)\n"
     ]
    }
   ],
   "source": [
    "# Drop rows with missing or corrupted values\n",
    "df.dropna(inplace=True)\n",
    "print(\"After cleaning:\", df.shape)\n",
    "\n",
    "# Reorder and keep final features\n",
    "final_features = [\n",
    "    'Blockno', 'UnixTimestamp', 'Value_IN(ETH)', 'Value_IN_USD',\n",
    "    'TxnFee_ETH', 'TxnFee_USD', 'HistoricalPrice_ETH',\n",
    "    'hour', 'dayofweek', 'GasEfficiency'\n",
    "]\n",
    "processed_df = df[final_features]"
   ]
  },
  {
   "cell_type": "code",
   "execution_count": 8,
   "id": "1ad5ef0f",
   "metadata": {},
   "outputs": [
    {
     "name": "stdout",
     "output_type": "stream",
     "text": [
      "Cleaned data saved to: '../data/processed_tx_data.csv'\n"
     ]
    },
    {
     "data": {
      "text/html": [
       "<div>\n",
       "<style scoped>\n",
       "    .dataframe tbody tr th:only-of-type {\n",
       "        vertical-align: middle;\n",
       "    }\n",
       "\n",
       "    .dataframe tbody tr th {\n",
       "        vertical-align: top;\n",
       "    }\n",
       "\n",
       "    .dataframe thead th {\n",
       "        text-align: right;\n",
       "    }\n",
       "</style>\n",
       "<table border=\"1\" class=\"dataframe\">\n",
       "  <thead>\n",
       "    <tr style=\"text-align: right;\">\n",
       "      <th></th>\n",
       "      <th>Blockno</th>\n",
       "      <th>UnixTimestamp</th>\n",
       "      <th>Value_IN(ETH)</th>\n",
       "      <th>Value_IN_USD</th>\n",
       "      <th>TxnFee_ETH</th>\n",
       "      <th>TxnFee_USD</th>\n",
       "      <th>HistoricalPrice_ETH</th>\n",
       "      <th>hour</th>\n",
       "      <th>dayofweek</th>\n",
       "      <th>GasEfficiency</th>\n",
       "    </tr>\n",
       "  </thead>\n",
       "  <tbody>\n",
       "    <tr>\n",
       "      <th>0</th>\n",
       "      <td>19557289</td>\n",
       "      <td>1711929611</td>\n",
       "      <td>0.0</td>\n",
       "      <td>0.0</td>\n",
       "      <td>0.002915</td>\n",
       "      <td>8.988436</td>\n",
       "      <td>3505.52</td>\n",
       "      <td>0</td>\n",
       "      <td>0</td>\n",
       "      <td>8.988436e+06</td>\n",
       "    </tr>\n",
       "    <tr>\n",
       "      <th>1</th>\n",
       "      <td>19557290</td>\n",
       "      <td>1711929623</td>\n",
       "      <td>0.0</td>\n",
       "      <td>0.0</td>\n",
       "      <td>0.004286</td>\n",
       "      <td>13.216714</td>\n",
       "      <td>3505.52</td>\n",
       "      <td>0</td>\n",
       "      <td>0</td>\n",
       "      <td>1.321671e+07</td>\n",
       "    </tr>\n",
       "    <tr>\n",
       "      <th>2</th>\n",
       "      <td>19557290</td>\n",
       "      <td>1711929623</td>\n",
       "      <td>0.0</td>\n",
       "      <td>0.0</td>\n",
       "      <td>0.000817</td>\n",
       "      <td>2.520163</td>\n",
       "      <td>3505.52</td>\n",
       "      <td>0</td>\n",
       "      <td>0</td>\n",
       "      <td>2.520163e+06</td>\n",
       "    </tr>\n",
       "    <tr>\n",
       "      <th>3</th>\n",
       "      <td>19557291</td>\n",
       "      <td>1711929635</td>\n",
       "      <td>0.0</td>\n",
       "      <td>0.0</td>\n",
       "      <td>0.002683</td>\n",
       "      <td>8.271781</td>\n",
       "      <td>3505.52</td>\n",
       "      <td>0</td>\n",
       "      <td>0</td>\n",
       "      <td>8.271781e+06</td>\n",
       "    </tr>\n",
       "    <tr>\n",
       "      <th>4</th>\n",
       "      <td>19557291</td>\n",
       "      <td>1711929635</td>\n",
       "      <td>0.0</td>\n",
       "      <td>0.0</td>\n",
       "      <td>0.003421</td>\n",
       "      <td>10.549526</td>\n",
       "      <td>3505.52</td>\n",
       "      <td>0</td>\n",
       "      <td>0</td>\n",
       "      <td>1.054953e+07</td>\n",
       "    </tr>\n",
       "  </tbody>\n",
       "</table>\n",
       "</div>"
      ],
      "text/plain": [
       "    Blockno  UnixTimestamp  Value_IN(ETH)  Value_IN_USD  TxnFee_ETH  \\\n",
       "0  19557289     1711929611            0.0           0.0    0.002915   \n",
       "1  19557290     1711929623            0.0           0.0    0.004286   \n",
       "2  19557290     1711929623            0.0           0.0    0.000817   \n",
       "3  19557291     1711929635            0.0           0.0    0.002683   \n",
       "4  19557291     1711929635            0.0           0.0    0.003421   \n",
       "\n",
       "   TxnFee_USD  HistoricalPrice_ETH  hour  dayofweek  GasEfficiency  \n",
       "0    8.988436              3505.52     0          0   8.988436e+06  \n",
       "1   13.216714              3505.52     0          0   1.321671e+07  \n",
       "2    2.520163              3505.52     0          0   2.520163e+06  \n",
       "3    8.271781              3505.52     0          0   8.271781e+06  \n",
       "4   10.549526              3505.52     0          0   1.054953e+07  "
      ]
     },
     "execution_count": 8,
     "metadata": {},
     "output_type": "execute_result"
    }
   ],
   "source": [
    "# Save cleaned dataset\n",
    "os.makedirs('../data', exist_ok=True)\n",
    "processed_df.to_csv('../data/processed_tx_data.csv', index=False)\n",
    "print(\"Cleaned data saved to: '../data/processed_tx_data.csv'\")\n",
    "\n",
    "# Quick preview\n",
    "processed_df.head()"
   ]
  }
 ],
 "metadata": {
  "kernelspec": {
   "display_name": "Python 3",
   "language": "python",
   "name": "python3"
  },
  "language_info": {
   "codemirror_mode": {
    "name": "ipython",
    "version": 3
   },
   "file_extension": ".py",
   "mimetype": "text/x-python",
   "name": "python",
   "nbconvert_exporter": "python",
   "pygments_lexer": "ipython3",
   "version": "3.12.3"
  }
 },
 "nbformat": 4,
 "nbformat_minor": 5
}
